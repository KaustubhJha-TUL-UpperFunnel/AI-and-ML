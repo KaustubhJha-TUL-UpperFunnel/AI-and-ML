{
 "cells": [
  {
   "cell_type": "code",
   "execution_count": 1,
   "metadata": {},
   "outputs": [],
   "source": [
    "import nltk"
   ]
  },
  {
   "cell_type": "markdown",
   "metadata": {},
   "source": [
    "## Tokenizing\n",
    "###### the process of breaking sown the paragraph into small chunks"
   ]
  },
  {
   "cell_type": "code",
   "execution_count": 2,
   "metadata": {},
   "outputs": [],
   "source": [
    "#token is a single entitiy that is building blocks for sentence or paragraph"
   ]
  },
  {
   "cell_type": "code",
   "execution_count": 4,
   "metadata": {},
   "outputs": [],
   "source": [
    "#for splitting token into sentences\n",
    "from nltk.tokenize import sent_tokenize"
   ]
  },
  {
   "cell_type": "code",
   "execution_count": 13,
   "metadata": {},
   "outputs": [],
   "source": [
    "text = \"\"\"Hello participants Let's learn about Natural Language Processing.\n",
    "        There is one more day left.\"\"\"\n"
   ]
  },
  {
   "cell_type": "code",
   "execution_count": 14,
   "metadata": {},
   "outputs": [
    {
     "data": {
      "text/plain": [
       "[\"Hello participants Let's learn about Natural Language Processing.\",\n",
       " 'There is one more day left.']"
      ]
     },
     "execution_count": 14,
     "metadata": {},
     "output_type": "execute_result"
    }
   ],
   "source": [
    "tokenized_text =  sent_tokenize(text)\n",
    "tokenized_text"
   ]
  },
  {
   "cell_type": "code",
   "execution_count": 16,
   "metadata": {},
   "outputs": [],
   "source": [
    "##Word Tokenization\n",
    "#Splitting your text sentences into words\n",
    "from nltk.tokenize import word_tokenize\n",
    "tokenized_words = word_tokenize(text)"
   ]
  },
  {
   "cell_type": "code",
   "execution_count": 17,
   "metadata": {},
   "outputs": [
    {
     "data": {
      "text/plain": [
       "['Hello',\n",
       " 'participants',\n",
       " 'Let',\n",
       " \"'s\",\n",
       " 'learn',\n",
       " 'about',\n",
       " 'Natural',\n",
       " 'Language',\n",
       " 'Processing',\n",
       " '.',\n",
       " 'There',\n",
       " 'is',\n",
       " 'one',\n",
       " 'more',\n",
       " 'day',\n",
       " 'left',\n",
       " '.']"
      ]
     },
     "execution_count": 17,
     "metadata": {},
     "output_type": "execute_result"
    }
   ],
   "source": [
    "tokenized_words"
   ]
  },
  {
   "cell_type": "code",
   "execution_count": 18,
   "metadata": {},
   "outputs": [],
   "source": [
    "###stopwords"
   ]
  },
  {
   "cell_type": "code",
   "execution_count": 20,
   "metadata": {},
   "outputs": [
    {
     "name": "stdout",
     "output_type": "stream",
     "text": [
      "{'whom', 'further', 't', 'himself', 'until', \"couldn't\", 'our', 'him', 'own', 'd', 'again', 'don', 'over', \"won't\", \"you've\", 'for', 'her', 'are', 'while', 'mustn', 'itself', 'more', 'his', 'such', 'i', 'off', 'when', 'had', 'nor', 'at', 'any', 'wasn', 'just', 'from', 'me', 'myself', 'themselves', 'ourselves', 'through', 'were', 'isn', 'against', 'doing', 'or', 'most', 'which', 'not', 'these', 'ours', 'same', 'each', 'than', 'on', 'as', 'because', 'how', 'my', 'during', 'only', 'hers', 'aren', \"haven't\", 'of', 'once', 'why', \"needn't\", 'shan', \"wasn't\", 'other', \"you'll\", 'couldn', 'can', 'been', \"isn't\", 'very', 'o', 'having', 'we', 'those', 'being', 'am', 'doesn', 'yourselves', 'after', 'all', 'll', 'your', 'down', 'this', \"shan't\", 'no', 'needn', 'have', 'that', \"don't\", 'will', 'too', 'the', 'before', 'what', 'there', 'does', 'them', \"wouldn't\", \"mustn't\", 'both', 'by', 'in', 'was', 'mightn', 'who', 'into', 'an', 'its', 'where', 'below', \"that'll\", 'm', 'about', 'be', 's', \"didn't\", 'out', 'weren', \"you'd\", \"you're\", 'she', 'but', 'a', 'didn', 'do', 'he', 'above', \"hadn't\", 'y', 'herself', 'wouldn', 'so', 'ma', \"shouldn't\", 'under', \"hasn't\", 'here', \"mightn't\", 'haven', 'yours', \"weren't\", 'with', 'should', 've', \"it's\", 'has', 'few', 'some', \"aren't\", \"should've\", 'to', 'hadn', 'then', 'and', 'theirs', 'it', 'now', 'yourself', 'between', 'shouldn', 're', 'if', 'their', \"doesn't\", 'is', 'hasn', 'ain', 'did', \"she's\", 'they', 'you', 'up', 'won'}\n"
     ]
    }
   ],
   "source": [
    "from nltk.corpus import stopwords\n",
    "stop_words = set(stopwords.words(\"english\"))\n",
    "print(stop_words)"
   ]
  },
  {
   "cell_type": "code",
   "execution_count": 21,
   "metadata": {},
   "outputs": [
    {
     "name": "stdout",
     "output_type": "stream",
     "text": [
      "Tokenized Sentence [\"Hello participants Let's learn about Natural Language Processing.\", 'There is one more day left.']\n",
      "Flitered Sentence ['Hello', 'participants', 'Let', \"'s\", 'learn', 'Natural', 'Language', 'Processing', '.', 'There', 'one', 'day', 'left', '.']\n"
     ]
    }
   ],
   "source": [
    "filtered_word = []\n",
    "for w in tokenized_words:\n",
    "    if w not in stop_words:\n",
    "        filtered_word.append(w)\n",
    "print(\"Tokenized Sentence\",tokenized_text)\n",
    "print(\"Flitered Sentence\",filtered_word)"
   ]
  },
  {
   "cell_type": "code",
   "execution_count": 23,
   "metadata": {},
   "outputs": [
    {
     "name": "stdout",
     "output_type": "stream",
     "text": [
      "['Hello', 'participants', 'Let', \"'s\", 'learn', 'Natural', 'Language', 'Processing', '.', 'There', 'one', 'day', 'left', '.']\n",
      "['hello', 'particip', 'let', \"'s\", 'learn', 'natur', 'languag', 'process', '.', 'there', 'one', 'day', 'left', '.']\n"
     ]
    }
   ],
   "source": [
    "from nltk.stem import PorterStemmer\n",
    "from nltk.tokenize import sent_tokenize,word_tokenize\n",
    "ps = PorterStemmer()\n",
    "\n",
    "stemmed_words = []\n",
    "for w in filtered_word:\n",
    "    stemmed_words.append(ps.stem(w))\n",
    "    \n",
    "print(filtered_word)\n",
    "print(stemmed_words)"
   ]
  },
  {
   "cell_type": "code",
   "execution_count": 34,
   "metadata": {},
   "outputs": [
    {
     "name": "stdout",
     "output_type": "stream",
     "text": [
      "Lemmatized Word fly\n"
     ]
    }
   ],
   "source": [
    "#lemmitization\n",
    "from nltk.stem.wordnet import WordNetLemmatizer\n",
    "lem = WordNetLemmatizer()\n",
    "\n",
    "from nltk.stem.porter import PorterStemmer\n",
    "stem = PorterStemmer()\n",
    "word = \"flying\"\n",
    "print(\"Lemmatized Word\",lem.lemmatize(word,\"v\"))\n",
    "#nooun me dame rehta he"
   ]
  },
  {
   "cell_type": "code",
   "execution_count": null,
   "metadata": {},
   "outputs": [],
   "source": [
    "#N-grams\n"
   ]
  }
 ],
 "metadata": {
  "kernelspec": {
   "display_name": "Python 3",
   "language": "python",
   "name": "python3"
  },
  "language_info": {
   "codemirror_mode": {
    "name": "ipython",
    "version": 3
   },
   "file_extension": ".py",
   "mimetype": "text/x-python",
   "name": "python",
   "nbconvert_exporter": "python",
   "pygments_lexer": "ipython3",
   "version": "3.7.3"
  }
 },
 "nbformat": 4,
 "nbformat_minor": 2
}
